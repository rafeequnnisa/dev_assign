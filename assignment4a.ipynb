{
 "cells": [
  {
   "cell_type": "code",
   "execution_count": 28,
   "id": "d802565d",
   "metadata": {},
   "outputs": [],
   "source": [
    "\n",
    "\n",
    "\n",
    "\n",
    "\n",
    "\n",
    "name1=\"arshath\"\n",
    "name2=\"ashi\"\n",
    "name3=\"mobeena\"\n",
    "name4=\"rafee\"\n",
    "name5=\"amreen\"\n",
    "name6=\"anju\"\n",
    "name7=\"eshwari\"\n",
    "name8=\"farha\"\n",
    "name9=\"sahithya\"\n",
    "name10=\"vishnu\""
   ]
  },
  {
   "cell_type": "code",
   "execution_count": 29,
   "id": "c2044ee7",
   "metadata": {},
   "outputs": [
    {
     "name": "stdout",
     "output_type": "stream",
     "text": [
      "arshath\n",
      "ashi\n",
      "mobeena\n",
      "rafee\n",
      "amreen\n",
      "anju\n",
      "eshwari\n",
      "farha\n",
      "sahithya\n",
      "vishnu\n"
     ]
    }
   ],
   "source": [
    "print(name1)\n",
    "print(name2)\n",
    "print(name3)\n",
    "print(name4)\n",
    "print(name5)\n",
    "print(name6)\n",
    "print(name7)\n",
    "print(name8)\n",
    "print(name9)\n",
    "print(name10)"
   ]
  },
  {
   "cell_type": "code",
   "execution_count": 34,
   "id": "eb360c70",
   "metadata": {},
   "outputs": [],
   "source": [
    "father=\"rakheeb\"\n",
    "mother=\"shamshad\"\n",
    "sister=\"mobeena\"\n",
    "brother=\"raheth\"\n",
    "soninlaw=\"ayan\"\n",
    "daughterinlaw=\"farha\"\n",
    "aunt=\"fathima\"\n",
    "uncle=\"asif\"\n",
    "grandfather=\"hannim\"\n",
    "grandmother=\"thahera\""
   ]
  },
  {
   "cell_type": "code",
   "execution_count": 35,
   "id": "5a519b9a",
   "metadata": {},
   "outputs": [
    {
     "name": "stdout",
     "output_type": "stream",
     "text": [
      "rakheeb\n",
      "shamshad\n",
      "mobeena\n",
      "raheth\n",
      "ayan\n",
      "farha\n",
      "fathima\n",
      "asif\n",
      "hannim\n",
      "thahera\n"
     ]
    }
   ],
   "source": [
    "print(father)\n",
    "print(mother)\n",
    "print(sister)\n",
    "print(brother)\n",
    "print(soninlaw)\n",
    "print(daughterinlaw)\n",
    "print(aunt)\n",
    "print(uncle)\n",
    "print(grandfather)\n",
    "print(grandmother)\n"
   ]
  },
  {
   "cell_type": "code",
   "execution_count": 36,
   "id": "1c07a850",
   "metadata": {},
   "outputs": [
    {
     "name": "stdout",
     "output_type": "stream",
     "text": [
      "chickenbiryani\n",
      "chickencurry\n",
      "muttoncurry\n",
      "muttonbiryani\n",
      "attu\n",
      "dosa\n",
      "puri\n",
      "idly\n",
      "potatofry\n",
      "chickenfry\n",
      "\n"
     ]
    }
   ],
   "source": [
    "foodnames=\"chickenbiryani\\nchickencurry\\nmuttoncurry\\nmuttonbiryani\\nattu\\ndosa\\npuri\\nidly\\npotatofry\\nchickenfry\\n\"\n",
    "print(foodnames)"
   ]
  },
  {
   "cell_type": "code",
   "execution_count": 37,
   "id": "6cb0be63",
   "metadata": {},
   "outputs": [
    {
     "name": "stdout",
     "output_type": "stream",
     "text": [
      "pink\n",
      "blue\n",
      "black\n",
      "green\n",
      "skyblue\n",
      "yellow\n",
      "brown\n",
      "red\n",
      "white\n",
      "violet\n",
      "\n"
     ]
    }
   ],
   "source": [
    "colournames=\"pink\\nblue\\nblack\\ngreen\\nskyblue\\nyellow\\nbrown\\nred\\nwhite\\nviolet\\n\"\n",
    "print(colournames)"
   ]
  },
  {
   "cell_type": "code",
   "execution_count": 38,
   "id": "2489bc12",
   "metadata": {},
   "outputs": [
    {
     "name": "stdout",
     "output_type": "stream",
     "text": [
      "january\n",
      "february\n",
      "march\n",
      "april\n",
      "may\n",
      "june\n",
      "july\n",
      "august\n",
      "september\n",
      "october\n",
      "\n"
     ]
    }
   ],
   "source": [
    "monthnames=\"january\\nfebruary\\nmarch\\napril\\nmay\\njune\\njuly\\naugust\\nseptember\\noctober\\n\"\n",
    "print(monthnames)"
   ]
  },
  {
   "cell_type": "code",
   "execution_count": 39,
   "id": "6ce6f0c7",
   "metadata": {},
   "outputs": [
    {
     "name": "stdout",
     "output_type": "stream",
     "text": [
      "kabaddi\n",
      "coco\n",
      "hockey\n",
      "skipping\n",
      "freefire\n",
      "templerun\n",
      "candycrush\n",
      "wordsbuilding\n",
      "subwaysurf\n",
      "bubbleshooter\n",
      "\n"
     ]
    }
   ],
   "source": [
    "gamesnames=\"kabaddi\\ncoco\\nhockey\\nskipping\\nfreefire\\ntemplerun\\ncandycrush\\nwordsbuilding\\nsubwaysurf\\nbubbleshooter\\n\"\n",
    "print(gamesnames)"
   ]
  },
  {
   "cell_type": "code",
   "execution_count": 40,
   "id": "a33c201e",
   "metadata": {},
   "outputs": [
    {
     "name": "stdout",
     "output_type": "stream",
     "text": [
      "machilipatnam\n",
      "hyderabad\n",
      "vijayawada\n",
      "gudivada\n",
      "vizag\n",
      "challapalli\n",
      "chennai\n",
      "delhi\n",
      "america\n",
      "mumbai\n",
      "\n"
     ]
    }
   ],
   "source": [
    "citynames=\"machilipatnam\\nhyderabad\\nvijayawada\\ngudivada\\nvizag\\nchallapalli\\nchennai\\ndelhi\\namerica\\nmumbai\\n\"\n",
    "print(citynames)"
   ]
  },
  {
   "cell_type": "code",
   "execution_count": 3,
   "id": "6d9f3959",
   "metadata": {},
   "outputs": [
    {
     "name": "stdout",
     "output_type": "stream",
     "text": [
      "[1, 2, 3, 4, 5, 6, 7, 8, 9, 10]\n",
      "('ashi', 'amreen', 'mobeena', 'arshath', 'ayan', 'vishnu', 'anju', 'sahithya', 'uma', 'prasanna')\n"
     ]
    }
   ],
   "source": [
    "list1=[1,2,3,4,5,6,7,8,9,10]\n",
    "friendnames=\"ashi\",\"amreen\",\"mobeena\",\"arshath\",\"ayan\",\"vishnu\",\"anju\",\"sahithya\",\"uma\",\"prasanna\"\n",
    "print(list1)\n",
    "print(friendnames)"
   ]
  },
  {
   "cell_type": "code",
   "execution_count": 8,
   "id": "91bf0838",
   "metadata": {},
   "outputs": [
    {
     "name": "stdout",
     "output_type": "stream",
     "text": [
      "(1, 2, 3, 4, 5, 6, 7, 8, 9, 10)\n",
      "('mother', 'father', 'grandfather', 'grandmother', 'aunt', 'uncle', 'soninlaw', 'brotherinlaw', 'sisterinlaw', 'daughterinlaw')\n"
     ]
    }
   ],
   "source": [
    "tuple1=(1,2,3,4,5,6,7,8,9,10)\n",
    "familynames=\"mother\",\"father\",\"grandfather\",\"grandmother\",\"aunt\",\"uncle\",\"soninlaw\",\"brotherinlaw\",\"sisterinlaw\",\"daughterinlaw\"\n",
    "print(tuple1)\n",
    "print(familynames)\n",
    "    "
   ]
  },
  {
   "cell_type": "code",
   "execution_count": 13,
   "id": "6b4df9b6",
   "metadata": {},
   "outputs": [
    {
     "name": "stdout",
     "output_type": "stream",
     "text": [
      "{1, 2, 3, 4, 5, 6, 7, 8, 10}\n",
      "{'green', 'orange', 'pink', 'black', 'red', 'brown', 'violet', 'yellow', 'skyblue', 'blue'}\n"
     ]
    }
   ],
   "source": [
    "set1={1,2,3,4,5,6,7,8,10}\n",
    "colournames={\"pink\",\"blue\",\"green\",\"skyblue\",\"yellow\",\"black\",\"red\",\"orange\",\"violet\",\"brown\"}\n",
    "print(set1)\n",
    "print(colournames)"
   ]
  },
  {
   "cell_type": "code",
   "execution_count": 32,
   "id": "6159b30a",
   "metadata": {},
   "outputs": [
    {
     "name": "stdout",
     "output_type": "stream",
     "text": [
      "[1, 9, 10, 5, 3, 2, 7, 8, 6, 4]\n"
     ]
    }
   ],
   "source": [
    "month_names=[1,9,10,5,3,2,7,8,6,4]\n",
    "month_names1=list(month_names)\n",
    "print(month_names1)"
   ]
  },
  {
   "cell_type": "code",
   "execution_count": 3,
   "id": "6d4aa9dd",
   "metadata": {},
   "outputs": [
    {
     "data": {
      "text/plain": [
       "['chiranjeev',\n",
       " 'balakrishan',\n",
       " 'nagarjuna',\n",
       " 'venky',\n",
       " 'pawan kalyan',\n",
       " 'maheshbabu',\n",
       " 'NT rama rao',\n",
       " 'ramcharan']"
      ]
     },
     "execution_count": 3,
     "metadata": {},
     "output_type": "execute_result"
    }
   ],
   "source": [
    " tollywood_heros=[\"chiru\", \"balaya\", \"nag\",\"venky\",\"powerstar\",\"superstar\",\"ntr\",\"ramcharan\"]\n",
    "tollywood_heros[0]=\"chiranjeev\"\n",
    "(tollywood_heros)\n",
    "tollywood_heros[1]=\"balakrishan\"\n",
    "(tollywood_heros)\n",
    "tollywood_heros[2]=\"nagarjuna\"\n",
    "(tollywood_heros)\n",
    "tollywood_heros[3]=\"venky\"\n",
    "(tollywood_heros)\n",
    "tollywood_heros[4]=\"pawan kalyan\"\n",
    "(tollywood_heros)\n",
    "tollywood_heros[5]=\"maheshbabu\"\n",
    "(tollywood_heros)\n",
    "tollywood_heros[6]=\"NT rama rao\"\n",
    "(tollywood_heros)\n",
    "tollywood_heros[7]=\"ramcharan\"\n",
    "(tollywood_heros)"
   ]
  },
  {
   "cell_type": "code",
   "execution_count": 1,
   "id": "76fc1707",
   "metadata": {},
   "outputs": [
    {
     "data": {
      "text/plain": [
       "{'Akshay Kumar',\n",
       " 'Amitabh Bachchan',\n",
       " 'HrithikRoshan',\n",
       " 'amirkhan',\n",
       " 'salmankhan',\n",
       " 'sharukkhan'}"
      ]
     },
     "execution_count": 1,
     "metadata": {},
     "output_type": "execute_result"
    }
   ],
   "source": [
    "bollywood_heros=[\"sharukkhan\", \"salmankhan\", \"salmankhan\",\"amirkhan\",\"HrithikRoshan\",\"Amitabh Bachchan\",\"Akshay Kumar\",\"amirkhan\"]\n",
    "bollywood_heros=set(bollywood_heros)\n",
    "(bollywood_heros)"
   ]
  },
  {
   "cell_type": "code",
   "execution_count": 14,
   "id": "43d674e7",
   "metadata": {},
   "outputs": [
    {
     "data": {
      "text/plain": [
       "'mysoor baji'"
      ]
     },
     "execution_count": 14,
     "metadata": {},
     "output_type": "execute_result"
    }
   ],
   "source": [
    "breakfast_items=[\"upma\",\"dosa\",\"idly\",\"puri\",\"punugulu\",\"roti\",\"chapathi\", \"parota\",\"mysoor baji\",\"minapa baji\"]\n",
    "breakfast_items[8]                "
   ]
  },
  {
   "cell_type": "code",
   "execution_count": null,
   "id": "04d319b3",
   "metadata": {},
   "outputs": [],
   "source": []
  },
  {
   "cell_type": "code",
   "execution_count": null,
   "id": "21f90f6e",
   "metadata": {},
   "outputs": [],
   "source": []
  }
 ],
 "metadata": {
  "kernelspec": {
   "display_name": "Python 3 (ipykernel)",
   "language": "python",
   "name": "python3"
  },
  "language_info": {
   "codemirror_mode": {
    "name": "ipython",
    "version": 3
   },
   "file_extension": ".py",
   "mimetype": "text/x-python",
   "name": "python",
   "nbconvert_exporter": "python",
   "pygments_lexer": "ipython3",
   "version": "3.10.9"
  }
 },
 "nbformat": 4,
 "nbformat_minor": 5
}
